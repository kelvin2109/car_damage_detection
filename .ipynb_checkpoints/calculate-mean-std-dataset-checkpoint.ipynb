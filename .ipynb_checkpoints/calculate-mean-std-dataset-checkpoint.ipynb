{
 "cells": [
  {
   "cell_type": "code",
   "execution_count": 5,
   "id": "724b51c4",
   "metadata": {},
   "outputs": [],
   "source": [
    "import os\n",
    "import pandas as pd\n",
    "import torchvision\n",
    "from torchvision.io import read_image"
   ]
  },
  {
   "cell_type": "code",
   "execution_count": 6,
   "id": "54b839da",
   "metadata": {},
   "outputs": [],
   "source": [
    "train_path = 'damagecar_dataset/train'\n",
    "test_path = 'damagecar_dataset/test'"
   ]
  },
  {
   "cell_type": "code",
   "execution_count": 8,
   "id": "278822ad",
   "metadata": {},
   "outputs": [],
   "source": [
    "train_dataset = torchvision.datasets.ImageFolder(root=train_path)\n"
   ]
  },
  {
   "cell_type": "code",
   "execution_count": 12,
   "id": "7dc06b34",
   "metadata": {},
   "outputs": [],
   "source": [
    " def show_transformed_images(dataset):\n",
    "    loader = torch.utils.data.DataLoader(dataset, batch_size, shuffle=True)\n",
    "    batch = next(iter(loader))\n",
    "    images, labels = batch"
   ]
  },
  {
   "cell_type": "code",
   "execution_count": null,
   "id": "ba45787e",
   "metadata": {},
   "outputs": [],
   "source": [
    "  "
   ]
  }
 ],
 "metadata": {
  "kernelspec": {
   "display_name": "Python 3 (ipykernel)",
   "language": "python",
   "name": "python3"
  },
  "language_info": {
   "codemirror_mode": {
    "name": "ipython",
    "version": 3
   },
   "file_extension": ".py",
   "mimetype": "text/x-python",
   "name": "python",
   "nbconvert_exporter": "python",
   "pygments_lexer": "ipython3",
   "version": "3.8.10"
  }
 },
 "nbformat": 4,
 "nbformat_minor": 5
}
