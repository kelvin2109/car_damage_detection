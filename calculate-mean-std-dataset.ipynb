{
 "cells": [
  {
   "cell_type": "code",
   "execution_count": 90,
   "id": "724b51c4",
   "metadata": {},
   "outputs": [],
   "source": [
    "import os\n",
    "import pandas as pd\n",
    "import torchvision\n",
    "from torchvision.io import read_image\n",
    "import torch\n",
    "import torchvision.transforms as transforms\n"
   ]
  },
  {
   "cell_type": "code",
   "execution_count": 91,
   "id": "076af4b1",
   "metadata": {},
   "outputs": [],
   "source": [
    "import numpy as np"
   ]
  },
  {
   "cell_type": "code",
   "execution_count": 92,
   "id": "d1476d35",
   "metadata": {},
   "outputs": [],
   "source": [
    "train_path = 'damagecar_dataset/train'\n",
    "test_path = 'damagecar_dataset/test'"
   ]
  },
  {
   "cell_type": "code",
   "execution_count": 93,
   "id": "bdcf05e5",
   "metadata": {},
   "outputs": [],
   "source": [
    "transforms_ = transforms.Compose([\n",
    "    transforms.Resize((224,224)),\n",
    "    transforms.ToTensor()\n",
    "])"
   ]
  },
  {
   "cell_type": "code",
   "execution_count": 94,
   "id": "278822ad",
   "metadata": {},
   "outputs": [],
   "source": [
    "train_dataset = torchvision.datasets.ImageFolder(root=train_path,transform= transforms_ )\n"
   ]
  },
  {
   "cell_type": "code",
   "execution_count": 95,
   "id": "277a838d",
   "metadata": {},
   "outputs": [],
   "source": [
    "loader = torch.utils.data.DataLoader(train_dataset, batch_size=30, shuffle=True)\n",
    " "
   ]
  },
  {
   "cell_type": "code",
   "execution_count": 105,
   "id": "a7ded305",
   "metadata": {},
   "outputs": [],
   "source": [
    "data,_ = next(iter(loader))"
   ]
  },
  {
   "cell_type": "code",
   "execution_count": 106,
   "id": "024c8265",
   "metadata": {},
   "outputs": [
    {
     "data": {
      "text/plain": [
       "torch.Size([30, 3, 224, 224])"
      ]
     },
     "execution_count": 106,
     "metadata": {},
     "output_type": "execute_result"
    }
   ],
   "source": [
    "data.shape"
   ]
  },
  {
   "cell_type": "code",
   "execution_count": 97,
   "id": "4c917b37",
   "metadata": {},
   "outputs": [],
   "source": [
    "def get_mean_and_std(dataloader):\n",
    "    channels_sum, channels_squaredsum, num_batches = 0,0,0\n",
    "    for data,_ in dataloader:\n",
    "        #mean over batch dim-0 ,length dim-2 ,width dim-3 but not for channels.\n",
    "        channels_sum += torch.mean(data, dim=[0,2,3])\n",
    "        channels_squaredsum += torch.mean(data**2,dim=[0,2,3])\n",
    "        num_batches += 1\n",
    "        \n",
    "    mean = channels_sum/num_batches\n",
    "    \n",
    "    std = (channels_squaredsum/ num_batches - mean ** 2)**0.5\n",
    "    \n",
    "    return mean,std"
   ]
  },
  {
   "cell_type": "code",
   "execution_count": 57,
   "id": "c53a5e84",
   "metadata": {},
   "outputs": [
    {
     "data": {
      "text/plain": [
       "(tensor([0.4606, 0.4502, 0.4486]), tensor([0.2787, 0.2772, 0.2826]))"
      ]
     },
     "execution_count": 57,
     "metadata": {},
     "output_type": "execute_result"
    }
   ],
   "source": [
    "get_mean_and_std(loader)"
   ]
  },
  {
   "cell_type": "code",
   "execution_count": 80,
   "id": "a1dabf6f",
   "metadata": {},
   "outputs": [],
   "source": [
    "my_data = np.array([[[1.,2.,3.,4.,5.],[1.,3.,5.,7.,9.]],[[1.0,2.0,3.0,4.0,5.0],[1.0,2.0,3.0,4.0,5.0]]])\n",
    "my_torch = torch.from_numpy(my_data)"
   ]
  },
  {
   "cell_type": "code",
   "execution_count": 89,
   "id": "56c8103c",
   "metadata": {},
   "outputs": [
    {
     "data": {
      "text/plain": [
       "tensor([[1.0000, 2.0000, 3.0000, 4.0000, 5.0000],\n",
       "        [1.0000, 2.5000, 4.0000, 5.5000, 7.0000]], dtype=torch.float64)"
      ]
     },
     "execution_count": 89,
     "metadata": {},
     "output_type": "execute_result"
    }
   ],
   "source": [
    "torch.mean(my_torch,dim=0)"
   ]
  },
  {
   "cell_type": "code",
   "execution_count": null,
   "id": "a290d701",
   "metadata": {},
   "outputs": [],
   "source": [
    "s"
   ]
  }
 ],
 "metadata": {
  "kernelspec": {
   "display_name": "Python 3 (ipykernel)",
   "language": "python",
   "name": "python3"
  },
  "language_info": {
   "codemirror_mode": {
    "name": "ipython",
    "version": 3
   },
   "file_extension": ".py",
   "mimetype": "text/x-python",
   "name": "python",
   "nbconvert_exporter": "python",
   "pygments_lexer": "ipython3",
   "version": "3.8.10"
  }
 },
 "nbformat": 4,
 "nbformat_minor": 5
}
